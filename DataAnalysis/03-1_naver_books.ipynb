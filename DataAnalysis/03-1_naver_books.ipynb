{
 "cells": [
  {
   "cell_type": "markdown",
   "id": "347c6f84",
   "metadata": {},
   "source": [
    "## 3-1. 네이버 책 검색 API 호출하기 (필수)\n",
    "###   검색어로  찾은  책 목록을 json 파일로 저장하기"
   ]
  },
  {
   "cell_type": "code",
   "execution_count": null,
   "id": "d9a01d7a",
   "metadata": {},
   "outputs": [],
   "source": [
    "import urllib.request\n",
    "import urllib.parse\n",
    "import requests\n",
    "import os\n",
    "import json\n",
    "from dotenv import load_dotenv\n",
    "from pprint import pprint\n",
    "load_dotenv()\n",
    "\n",
    "\n",
    "def search_books(query):\n",
    "    \n",
    "    payload={\n",
    "        'query':query,\n",
    "        'display':50,\n",
    "        'sort':'sim'\n",
    "    }\n",
    "    \n",
    "    \n",
    "    \n",
    "    client_id = os.getenv(\"NAVER_CLIENT_ID\") # 개발자센터에서 발급받은 Client ID 값\n",
    "    client_secret = os.getenv(\"NAVER_CLIENT_SECRET\") # 개발자센터에서 발급받은 Client Secret 값\n",
    "    \n",
    "    headers ={\n",
    "        'X-Naver-Client-Id' :client_id,\n",
    "        'X-Naver-Client-Secret' : client_secret\n",
    "    }\n",
    "    \n",
    "    url = \"https://openapi.naver.com/v1/search/book.json\" #?query={query}$display={display}\"\n",
    "    \n",
    "    #request = urllib.request.Request(url)\n",
    "    #response = urllib.request.urlopen(request)\n",
    "    #rescode = response.getcode()\n",
    "    \n",
    "    res= requests.get(url, params=payload, headers=headers)\n",
    "    \n",
    "    if res.ok :\n",
    "        items_data = res.json()['items']\n",
    "        items_list = []\n",
    "        for item in items_data :\n",
    "            book_info = {\n",
    "                'title': item['title'],\n",
    "                'link': item['link'],\n",
    "                'image': item['image'],\n",
    "                'author': item['author'],\n",
    "                'discount': item['discount'],\n",
    "                'publisher': item['publisher'],\n",
    "                'pubdate': item['pubdate'],\n",
    "                'isbn': item['isbn'],\n",
    "                'description': item['description']\n",
    "            }\n",
    "            items_list.append(book_info)\n",
    "        \n",
    "        save_dir = f'data/{query}'\n",
    "        os.makedirs(save_dir,exist_ok=True)\n",
    "        \n",
    "        with open(f'{save_dir}/books.json','w',encoding='utf-8') as file:\n",
    "            json.dump(items_list,file,ensure_ascii=False)\n",
    "        \n",
    "    else :\n",
    "        print(f'Error Code : {res.status_code}')       \n",
    "        \n",
    "search_books('파이썬')"
   ]
  },
  {
   "cell_type": "markdown",
   "id": "8af4cff6",
   "metadata": {},
   "source": [
    "### books.json 파일을 Pandas DataFrame으로 저장하기"
   ]
  },
  {
   "cell_type": "code",
   "execution_count": null,
   "id": "b6d23631",
   "metadata": {},
   "outputs": [],
   "source": [
    "import pandas as pd\n",
    "book_df = pd.read_json('data/파이썬/books.json')"
   ]
  },
  {
   "cell_type": "markdown",
   "id": "fc3209d1",
   "metadata": {},
   "source": [
    "### 검색어로 찾은 책 목록 출력하기"
   ]
  },
  {
   "cell_type": "code",
   "execution_count": null,
   "id": "9b04e4af",
   "metadata": {},
   "outputs": [],
   "source": [
    "book_df.head()"
   ]
  },
  {
   "cell_type": "markdown",
   "id": "44916a51",
   "metadata": {},
   "source": [
    "###  검색어로  찾은  책 목록 중에서 가격이 2만원 이상인 책만 출력하기"
   ]
  },
  {
   "cell_type": "code",
   "execution_count": null,
   "id": "9134aa03",
   "metadata": {},
   "outputs": [],
   "source": [
    "book_df.loc[book_df['discount'].values>=20000,['title','author','discount','publisher','pubdate']].sort_values(by='discount', ascending=False).reset_index(drop=True)"
   ]
  },
  {
   "cell_type": "markdown",
   "id": "515ff08d",
   "metadata": {},
   "source": [
    "### 검색어로  찾은  책 목록 중에서 출판사가 인피니티북스인 책만 출력하기"
   ]
  },
  {
   "cell_type": "code",
   "execution_count": null,
   "id": "3cbf8517",
   "metadata": {},
   "outputs": [],
   "source": [
    "book_df.loc[book_df['publisher'] == '인피니티북스'].drop(columns=['image','description']).reset_index(drop=True)"
   ]
  }
 ],
 "metadata": {
  "kernelspec": {
   "display_name": "base",
   "language": "python",
   "name": "python3"
  },
  "language_info": {
   "codemirror_mode": {
    "name": "ipython",
    "version": 3
   },
   "file_extension": ".py",
   "mimetype": "text/x-python",
   "name": "python",
   "nbconvert_exporter": "python",
   "pygments_lexer": "ipython3",
   "version": "3.12.2"
  }
 },
 "nbformat": 4,
 "nbformat_minor": 5
}
