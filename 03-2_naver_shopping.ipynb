{
 "cells": [
  {
   "cell_type": "markdown",
   "id": "b5588224",
   "metadata": {},
   "source": [
    "## 3-2. 네이버 쇼핑 검색 API 호출하기 (필수)\n",
    "###   검색어로  찾은  Shop의 상품  목록을 json 파일로 저장하기\n"
   ]
  },
  {
   "cell_type": "code",
   "execution_count": null,
   "id": "01819689",
   "metadata": {},
   "outputs": [],
   "source": [
    "import urllib.request\n",
    "import urllib.parse\n",
    "import requests\n",
    "import os\n",
    "import json\n",
    "from dotenv import load_dotenv\n",
    "from pprint import pprint\n",
    "\n",
    "load_dotenv()\n",
    "\n",
    "\n",
    "def search_shops(query):\n",
    "\n",
    "    payload = {\"query\": query, \"display\": 50, \"sort\": \"sim\"}\n",
    "\n",
    "    client_id = os.getenv(\"NAVER_CLIENT_ID\")  # 개발자센터에서 발급받은 Client ID 값\n",
    "    client_secret = os.getenv(\n",
    "        \"NAVER_CLIENT_SECRET\"\n",
    "    )  # 개발자센터에서 발급받은 Client Secret 값\n",
    "\n",
    "    headers = {\"X-Naver-Client-Id\": client_id, \"X-Naver-Client-Secret\": client_secret}\n",
    "\n",
    "    url = \"https://openapi.naver.com/v1/search/shop.json\"\n",
    "\n",
    "    res = requests.get(url, params=payload, headers=headers)\n",
    "\n",
    "    if res.ok:\n",
    "        items_data = res.json()[\"items\"]\n",
    "        items_list = []\n",
    "        for item in items_data:\n",
    "            book_info = {\n",
    "                \"title\": item[\"title\"],\n",
    "                \"link\": item[\"link\"],\n",
    "                \"image\": item[\"image\"],\n",
    "                \"lprice\": item[\"lprice\"],\n",
    "                \"hprice\": item[\"hprice\"],\n",
    "                \"mallName\": item[\"mallName\"],\n",
    "                \"productId\": item[\"productId\"],\n",
    "                \"productType\": item[\"productType\"],\n",
    "                \"maker\": item[\"maker\"],\n",
    "                \"brand\": item[\"brand\"],\n",
    "                \"category1\": item[\"category1\"],\n",
    "                \"category2\": item[\"category2\"],\n",
    "                \"category3\": item[\"category3\"],\n",
    "                \"category4\": item[\"category4\"],\n",
    "            }\n",
    "            items_list.append(book_info)\n",
    "\n",
    "        save_dir = f\"data/{query}\"\n",
    "        os.makedirs(save_dir, exist_ok=True)\n",
    "\n",
    "        with open(f\"{save_dir}/shops.json\", \"w\", encoding=\"utf-8\") as file:\n",
    "            json.dump(items_list, file, ensure_ascii=False)\n",
    "\n",
    "    else:\n",
    "        print(f\"Error Code : {res.status_code}\")\n",
    "\n",
    "\n",
    "search_shops(\"가디건\")"
   ]
  },
  {
   "cell_type": "markdown",
   "id": "b20f2661",
   "metadata": {},
   "source": [
    "### shops.json 파일을 Pandas DataFrame으로 저장하기"
   ]
  },
  {
   "cell_type": "code",
   "execution_count": null,
   "id": "3e116c71",
   "metadata": {},
   "outputs": [],
   "source": [
    "import pandas as pd\n",
    "shop_df =pd.read_json('data/가디건/shops.json')\n",
    "shop_df.head(2)"
   ]
  },
  {
   "cell_type": "markdown",
   "id": "3827c6c6",
   "metadata": {},
   "source": [
    "### 검색어로  찾은  Shop의 상품  목록 중에서 가격이 50,000원 이하인 상품만 출력하기"
   ]
  },
  {
   "cell_type": "code",
   "execution_count": null,
   "id": "8e01cf5a",
   "metadata": {},
   "outputs": [],
   "source": [
    "shop_df.loc[shop_df['lprice']<=50000,['brand','lprice','mallName','link']].sort_values(by='lprice').reset_index(drop=True)"
   ]
  },
  {
   "cell_type": "markdown",
   "id": "62b47f65",
   "metadata": {},
   "source": [
    "### 검색어로  찾은  Shop의 상품  목록 중에서 특정 쇼핑몰 상품만 출력하기\n"
   ]
  },
  {
   "cell_type": "code",
   "execution_count": null,
   "id": "38c8ecbb",
   "metadata": {},
   "outputs": [],
   "source": [
    "shop_df.loc[shop_df['mallName']=='네이버','lprice':'brand' ].sort_values(by='lprice').reset_index(drop=True)"
   ]
  }
 ],
 "metadata": {
  "kernelspec": {
   "display_name": "base",
   "language": "python",
   "name": "python3"
  },
  "language_info": {
   "codemirror_mode": {
    "name": "ipython",
    "version": 3
   },
   "file_extension": ".py",
   "mimetype": "text/x-python",
   "name": "python",
   "nbconvert_exporter": "python",
   "pygments_lexer": "ipython3",
   "version": "3.12.2"
  }
 },
 "nbformat": 4,
 "nbformat_minor": 5
}
