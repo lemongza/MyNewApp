{
 "cells": [
  {
   "cell_type": "markdown",
   "id": "9edddb41",
   "metadata": {},
   "source": [
    "### Daum 뉴스기사 제목 스크래핑하기"
   ]
  },
  {
   "cell_type": "code",
   "execution_count": 33,
   "id": "dff48ee0",
   "metadata": {},
   "outputs": [
    {
     "name": "stdout",
     "output_type": "stream",
     "text": [
      "https://news.daum.net/economy\n",
      "200\n",
      "https://v.daum.net/v/20250408210600644\n",
      "“경영 노하우 공유하는 특별한 경험”…매일경제-성남상의, 제7기 최고경영자과정 입학식\n",
      "https://v.daum.net/v/20250408205853462\n",
      "가성비로 무장한 단체, 다시 제주로 간다” 수학여행부터 대만 인센티브까지.. ‘단체관광’이 살리는 제주\n",
      "https://v.daum.net/v/20250408204335126\n",
      "부동산 경기 활성화와 가계 부채 억제 사이, 새 정부 선택은?[정준호의 부동산과 사회경제]\n",
      "https://v.daum.net/v/20250408184905360\n",
      "‘관세 직격탄’ 애플 주가 19% ‘뚝’… 갈수록 커지는 ‘T공포’ [관세전쟁 후폭풍]\n",
      "https://v.daum.net/v/20250408183514025\n",
      "미·중 치킨게임…원화값 1473원대 추락, 글로벌 금융위기 후 최저\n",
      "https://v.daum.net/v/20250408175343664\n",
      "美·中 관세 폭탄 돌리기…‘새우등’ 한국 경제 불안감 더 커졌다\n",
      "https://v.daum.net/v/20250408175111585\n",
      "나랏빚 1175조 '역대 최대'…추경 재원 바닥\n",
      "https://v.daum.net/v/20250408174344325\n",
      "메디젠휴먼케어, \"23andMe 파산..한국 유전체 산업의 위기 아닌 기회\"\n",
      "https://v.daum.net/v/20250408173713085\n",
      "칩 확보서 데이터센터까지···전 산업에 'AI 고속도로' 깔아야\n"
     ]
    }
   ],
   "source": [
    "import requests\n",
    "from bs4 import BeautifulSoup\n",
    "\n",
    "section_dict = {\n",
    "    \"기후/환경\": \"tech\",\n",
    "    \"사회\": \"society\",\n",
    "    \"경제\": \"economy\",\n",
    "    \"정치\": \"politics\",\n",
    "    \"국제\": \"world\",\n",
    "    \"문화\": \"culture\",\n",
    "    \"생활\": \"life\",\n",
    "    \"IT/과학\": \"tech\",\n",
    "}\n",
    "\n",
    "\n",
    "def print_news(category):\n",
    "    section = section_dict[category]\n",
    "    print(f\"https://news.daum.net/{section}\")\n",
    "    \n",
    "    url = f\"https://news.daum.net/{section}\"\n",
    "    req_header = {\n",
    "        \"user-agent\": \"Mozilla/5.0 (Windows NT 10.0; Win64; x64) AppleWebKit/537.36 (KHTML, like Gecko) Chrome/104.0.0.0 Safari/537.36\"\n",
    "    }\n",
    "    res = requests.get(url, headers=req_header)\n",
    "    res.encoding = \"utf-8\"  # 한글 깨짐 방지\n",
    "    print(f\"{res.status_code}\")\n",
    "    if res.ok:\n",
    "        html = res.text\n",
    "        soup = BeautifulSoup(html, \"html.parser\")\n",
    "        strong_tag_list = soup.select(\"a.item_newsheadline2 strong.tit_txt\")\n",
    "        for strong_tag in strong_tag_list:\n",
    "\n",
    "            title = strong_tag.text.strip()\n",
    "            link = strong_tag.find_parent(\"a\")[\"href\"]\n",
    "            print(link)\n",
    "            print(title)\n",
    "\n",
    "    else:\n",
    "        print(f\"에러 코드 = {res.status_code}\")\n",
    "\n",
    "\n",
    "print_news(\"경제\")"
   ]
  }
 ],
 "metadata": {
  "kernelspec": {
   "display_name": "base",
   "language": "python",
   "name": "python3"
  },
  "language_info": {
   "codemirror_mode": {
    "name": "ipython",
    "version": 3
   },
   "file_extension": ".py",
   "mimetype": "text/x-python",
   "name": "python",
   "nbconvert_exporter": "python",
   "pygments_lexer": "ipython3",
   "version": "3.11.8"
  }
 },
 "nbformat": 4,
 "nbformat_minor": 5
}
