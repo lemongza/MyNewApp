{
 "cells": [
  {
   "cell_type": "markdown",
   "id": "d9330e36",
   "metadata": {},
   "source": [
    "### 네이버 웹툰 1개의 회차에 대한 Image 다운로드"
   ]
  },
  {
   "cell_type": "code",
   "execution_count": 1,
   "id": "ad0949b6",
   "metadata": {},
   "outputs": [
    {
     "name": "stdout",
     "output_type": "stream",
     "text": [
      "img_tags 수: 19\n",
      "Writing to img/쌉초의난/92/20241225183840_5c7e8a5d8b95be2c1c11af6d7cc2d22d_IMAG01_1.jpg\n",
      "Writing to img/쌉초의난/92/20241225183840_5c7e8a5d8b95be2c1c11af6d7cc2d22d_IMAG01_2.jpg\n",
      "Writing to img/쌉초의난/92/20241225183840_5c7e8a5d8b95be2c1c11af6d7cc2d22d_IMAG01_3.jpg\n",
      "Writing to img/쌉초의난/92/20241225183840_5c7e8a5d8b95be2c1c11af6d7cc2d22d_IMAG01_4.jpg\n",
      "Writing to img/쌉초의난/92/20241225183840_5c7e8a5d8b95be2c1c11af6d7cc2d22d_IMAG01_5.jpg\n",
      "Writing to img/쌉초의난/92/20241225183840_5c7e8a5d8b95be2c1c11af6d7cc2d22d_IMAG01_6.jpg\n",
      "Writing to img/쌉초의난/92/20241225183840_5c7e8a5d8b95be2c1c11af6d7cc2d22d_IMAG01_7.jpg\n",
      "Writing to img/쌉초의난/92/20241225183840_5c7e8a5d8b95be2c1c11af6d7cc2d22d_IMAG01_8.jpg\n",
      "Writing to img/쌉초의난/92/20241225183840_5c7e8a5d8b95be2c1c11af6d7cc2d22d_IMAG01_9.jpg\n",
      "Writing to img/쌉초의난/92/20241225183840_5c7e8a5d8b95be2c1c11af6d7cc2d22d_IMAG01_10.jpg\n",
      "Writing to img/쌉초의난/92/20241225183840_5c7e8a5d8b95be2c1c11af6d7cc2d22d_IMAG01_11.jpg\n",
      "Writing to img/쌉초의난/92/20241225183840_5c7e8a5d8b95be2c1c11af6d7cc2d22d_IMAG01_12.jpg\n",
      "Writing to img/쌉초의난/92/20241225183840_5c7e8a5d8b95be2c1c11af6d7cc2d22d_IMAG01_13.jpg\n",
      "Writing to img/쌉초의난/92/20241225183840_5c7e8a5d8b95be2c1c11af6d7cc2d22d_IMAG01_14.jpg\n",
      "Writing to img/쌉초의난/92/20241225183840_5c7e8a5d8b95be2c1c11af6d7cc2d22d_IMAG01_15.jpg\n",
      "Writing to img/쌉초의난/92/20241225183840_5c7e8a5d8b95be2c1c11af6d7cc2d22d_IMAG01_16.jpg\n",
      "Writing to img/쌉초의난/92/20241225183840_5c7e8a5d8b95be2c1c11af6d7cc2d22d_IMAG01_17.jpg\n",
      "Writing to img/쌉초의난/92/20241225183840_5c7e8a5d8b95be2c1c11af6d7cc2d22d_IMAG01_18.jpg\n",
      "Writing to img/쌉초의난/92/20241225183840_5c7e8a5d8b95be2c1c11af6d7cc2d22d_IMAG01_19.jpg\n"
     ]
    }
   ],
   "source": [
    "import requests\n",
    "from bs4 import BeautifulSoup\n",
    "import os\n",
    "\n",
    "\n",
    "def download_one_episode(title, no, url):\n",
    "    req_header = {\n",
    "        \"referer\": url,\n",
    "        \"User-Agent\": \"Mozilla/5.0\",  # UA 추가 (웹툰 서버 보호용)\n",
    "    }\n",
    "    res = requests.get(url,headers=req_header)\n",
    "\n",
    "    if res.ok:\n",
    "        html = res.text\n",
    "        soup = BeautifulSoup(html, 'html.parser')\n",
    "\n",
    "        #이미지 src 추출\n",
    "        img_tags = soup.select(\"img[src*='_IMAG01']\")\n",
    "        img_url_list = [img['src'] for img in img_tags if img.has_attr('src')]\n",
    "\n",
    "        print(f\"img_tags 수: {len(img_tags)}\") \n",
    "        imgdir_name = os.path.join('img', title, str(no))\n",
    "        if not os.path.isdir(imgdir_name):\n",
    "            os.makedirs(imgdir_name)  # 하위경로까지 생성\n",
    "\n",
    "        for img_url in img_url_list:\n",
    "            img_res = requests.get(img_url, headers=req_header)\n",
    "            if img_res.ok:\n",
    "                img = img_res.content\n",
    "                file_name = os.path.basename(img_url)\n",
    "                file_path = os.path.join(imgdir_name, file_name)\n",
    "\n",
    "                with open(file_path, \"wb\") as file:\n",
    "                    file.write(img)\n",
    "                print(f\"Writing to {file_path}\")\n",
    "            else:\n",
    "                print(f\"Error Code = {res.status_code}\")\n",
    "\n",
    "    else:\n",
    "        print(f\"Error Code = {res.status_code}\")\n",
    "\n",
    "\n",
    "download_one_episode(\n",
    "    '쌉초의난',\n",
    "    '92',\n",
    "    'https://comic.naver.com/webtoon/detail?titleId=823195&no=92&week=wed'\n",
    ")"
   ]
  },
  {
   "cell_type": "code",
   "execution_count": 2,
   "id": "26104774",
   "metadata": {},
   "outputs": [
    {
     "name": "stdout",
     "output_type": "stream",
     "text": [
      "img_tags 수: 19\n",
      "Writing to img/쌉초의난/93/20250106160353_3ceb95064d7d7689ba181f9c9d3332c6_IMAG01_1.jpg\n",
      "Writing to img/쌉초의난/93/20250106160353_3ceb95064d7d7689ba181f9c9d3332c6_IMAG01_2.jpg\n",
      "Writing to img/쌉초의난/93/20250106160353_3ceb95064d7d7689ba181f9c9d3332c6_IMAG01_3.jpg\n",
      "Writing to img/쌉초의난/93/20250106160353_3ceb95064d7d7689ba181f9c9d3332c6_IMAG01_4.jpg\n",
      "Writing to img/쌉초의난/93/20250106160353_3ceb95064d7d7689ba181f9c9d3332c6_IMAG01_5.jpg\n",
      "Writing to img/쌉초의난/93/20250106160353_3ceb95064d7d7689ba181f9c9d3332c6_IMAG01_6.jpg\n",
      "Writing to img/쌉초의난/93/20250106160353_3ceb95064d7d7689ba181f9c9d3332c6_IMAG01_7.jpg\n",
      "Writing to img/쌉초의난/93/20250106160353_3ceb95064d7d7689ba181f9c9d3332c6_IMAG01_8.jpg\n",
      "Writing to img/쌉초의난/93/20250106160353_3ceb95064d7d7689ba181f9c9d3332c6_IMAG01_9.jpg\n",
      "Writing to img/쌉초의난/93/20250106160353_3ceb95064d7d7689ba181f9c9d3332c6_IMAG01_10.jpg\n",
      "Writing to img/쌉초의난/93/20250106160353_3ceb95064d7d7689ba181f9c9d3332c6_IMAG01_11.jpg\n",
      "Writing to img/쌉초의난/93/20250106160353_3ceb95064d7d7689ba181f9c9d3332c6_IMAG01_12.jpg\n",
      "Writing to img/쌉초의난/93/20250106160353_3ceb95064d7d7689ba181f9c9d3332c6_IMAG01_13.jpg\n",
      "Writing to img/쌉초의난/93/20250106160353_3ceb95064d7d7689ba181f9c9d3332c6_IMAG01_14.jpg\n",
      "Writing to img/쌉초의난/93/20250106160353_3ceb95064d7d7689ba181f9c9d3332c6_IMAG01_15.jpg\n",
      "Writing to img/쌉초의난/93/20250106160353_3ceb95064d7d7689ba181f9c9d3332c6_IMAG01_16.jpg\n",
      "Writing to img/쌉초의난/93/20250106160353_3ceb95064d7d7689ba181f9c9d3332c6_IMAG01_17.jpg\n",
      "Writing to img/쌉초의난/93/20250106160353_3ceb95064d7d7689ba181f9c9d3332c6_IMAG01_18.jpg\n",
      "Writing to img/쌉초의난/93/20250106160353_3ceb95064d7d7689ba181f9c9d3332c6_IMAG01_19.jpg\n"
     ]
    }
   ],
   "source": [
    "download_one_episode(\n",
    "    '쌉초의난',\n",
    "    '93',\n",
    "    'https://comic.naver.com/webtoon/detail?titleId=823195&no=93&week=wed'\n",
    ")"
   ]
  },
  {
   "cell_type": "markdown",
   "id": "cd8045bf",
   "metadata": {},
   "source": [
    "#### 다른 코드로 풀어봄\n"
   ]
  },
  {
   "cell_type": "code",
   "execution_count": 8,
   "id": "1ea052b1",
   "metadata": {},
   "outputs": [
    {
     "name": "stdout",
     "output_type": "stream",
     "text": [
      "다운로드 완료: img/쌉초의난/94/20250106160453_8aa7848adf236f1769ee14b17727df15_IMAG01_1.jpg (227,466 bytes)\n",
      "다운로드 완료: img/쌉초의난/94/20250106160453_8aa7848adf236f1769ee14b17727df15_IMAG01_2.jpg (207,707 bytes)\n",
      "다운로드 완료: img/쌉초의난/94/20250106160453_8aa7848adf236f1769ee14b17727df15_IMAG01_3.jpg (192,566 bytes)\n",
      "다운로드 완료: img/쌉초의난/94/20250106160453_8aa7848adf236f1769ee14b17727df15_IMAG01_4.jpg (137,982 bytes)\n",
      "다운로드 완료: img/쌉초의난/94/20250106160453_8aa7848adf236f1769ee14b17727df15_IMAG01_5.jpg (194,668 bytes)\n",
      "다운로드 완료: img/쌉초의난/94/20250106160453_8aa7848adf236f1769ee14b17727df15_IMAG01_6.jpg (180,586 bytes)\n",
      "다운로드 완료: img/쌉초의난/94/20250106160453_8aa7848adf236f1769ee14b17727df15_IMAG01_7.jpg (145,349 bytes)\n",
      "다운로드 완료: img/쌉초의난/94/20250106160453_8aa7848adf236f1769ee14b17727df15_IMAG01_8.jpg (203,073 bytes)\n",
      "다운로드 완료: img/쌉초의난/94/20250106160453_8aa7848adf236f1769ee14b17727df15_IMAG01_9.jpg (154,335 bytes)\n",
      "다운로드 완료: img/쌉초의난/94/20250106160453_8aa7848adf236f1769ee14b17727df15_IMAG01_10.jpg (137,632 bytes)\n",
      "다운로드 완료: img/쌉초의난/94/20250106160453_8aa7848adf236f1769ee14b17727df15_IMAG01_11.jpg (185,634 bytes)\n",
      "다운로드 완료: img/쌉초의난/94/20250106160453_8aa7848adf236f1769ee14b17727df15_IMAG01_12.jpg (170,926 bytes)\n",
      "다운로드 완료: img/쌉초의난/94/20250106160453_8aa7848adf236f1769ee14b17727df15_IMAG01_13.jpg (166,568 bytes)\n",
      "다운로드 완료: img/쌉초의난/94/20250106160453_8aa7848adf236f1769ee14b17727df15_IMAG01_14.jpg (198,853 bytes)\n",
      "다운로드 완료: img/쌉초의난/94/20250106160453_8aa7848adf236f1769ee14b17727df15_IMAG01_15.jpg (145,187 bytes)\n",
      "다운로드 완료: img/쌉초의난/94/20250106160453_8aa7848adf236f1769ee14b17727df15_IMAG01_16.jpg (142,116 bytes)\n",
      "다운로드 완료: img/쌉초의난/94/20250106160453_8aa7848adf236f1769ee14b17727df15_IMAG01_17.jpg (160,735 bytes)\n",
      "다운로드 완료: img/쌉초의난/94/20250106160453_8aa7848adf236f1769ee14b17727df15_IMAG01_18.jpg (159,715 bytes)\n",
      "다운로드 완료: img/쌉초의난/94/20250106160453_8aa7848adf236f1769ee14b17727df15_IMAG01_19.jpg (193,627 bytes)\n",
      "다운로드 완료: img/쌉초의난/94/20250106160453_8aa7848adf236f1769ee14b17727df15_IMAG01_20.jpg (96,889 bytes)\n"
     ]
    }
   ],
   "source": [
    "import requests\n",
    "from bs4 import BeautifulSoup\n",
    "from pathlib import Path\n",
    "\n",
    "def download_one_episode(title,no,url) :\n",
    "    req_header = {'referer':url}\n",
    "    res= requests.get(url)\n",
    "    \n",
    "    if res.ok :\n",
    "        soup = BeautifulSoup(res.text,'html.parser')\n",
    "        \n",
    "        img_tags = soup.select(\"img[src*='IMAG01']\")\n",
    "        imgurl_list = [img['src'] for img in img_tags]\n",
    "        \n",
    "        save_dir = Path('img')/title /str(no)\n",
    "        save_dir.mkdir(parents=True, exist_ok=True)\n",
    "        \n",
    "        for idx,img_url in enumerate(imgurl_list,1) :\n",
    "            res=requests.get(img_url,headers=req_header)\n",
    "            res.raise_for_status()\n",
    "            \n",
    "            file_name = Path(img_url).name\n",
    "            save_path = save_dir / file_name\n",
    "            save_path.write_bytes(res.content)\n",
    "            print(f'다운로드 완료: {save_path} ({save_path.stat().st_size:,} bytes)')\n",
    "            \n",
    "            \n",
    "download_one_episode('쌉초의난',94,'https://comic.naver.com/webtoon/detail?titleId=823195&no=94&week=wed')"
   ]
  }
 ],
 "metadata": {
  "kernelspec": {
   "display_name": "base",
   "language": "python",
   "name": "python3"
  },
  "language_info": {
   "codemirror_mode": {
    "name": "ipython",
    "version": 3
   },
   "file_extension": ".py",
   "mimetype": "text/x-python",
   "name": "python",
   "nbconvert_exporter": "python",
   "pygments_lexer": "ipython3",
   "version": "3.12.2"
  }
 },
 "nbformat": 4,
 "nbformat_minor": 5
}
