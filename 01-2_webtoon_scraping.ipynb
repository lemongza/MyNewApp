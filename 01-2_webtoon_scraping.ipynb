{
 "cells": [
  {
   "cell_type": "markdown",
   "id": "d9330e36",
   "metadata": {},
   "source": [
    "### 네이버 웹툰 1개의 회차에 대한 Image 다운로드"
   ]
  },
  {
   "cell_type": "code",
   "execution_count": 50,
   "id": "ad0949b6",
   "metadata": {},
   "outputs": [
    {
     "name": "stdout",
     "output_type": "stream",
     "text": [
      "img_tags 수: 19\n",
      "Writing to img/쌉초의난/92/20241225183840_5c7e8a5d8b95be2c1c11af6d7cc2d22d_IMAG01_1.jpg\n",
      "Writing to img/쌉초의난/92/20241225183840_5c7e8a5d8b95be2c1c11af6d7cc2d22d_IMAG01_2.jpg\n",
      "Writing to img/쌉초의난/92/20241225183840_5c7e8a5d8b95be2c1c11af6d7cc2d22d_IMAG01_3.jpg\n",
      "Writing to img/쌉초의난/92/20241225183840_5c7e8a5d8b95be2c1c11af6d7cc2d22d_IMAG01_4.jpg\n",
      "Writing to img/쌉초의난/92/20241225183840_5c7e8a5d8b95be2c1c11af6d7cc2d22d_IMAG01_5.jpg\n",
      "Writing to img/쌉초의난/92/20241225183840_5c7e8a5d8b95be2c1c11af6d7cc2d22d_IMAG01_6.jpg\n",
      "Writing to img/쌉초의난/92/20241225183840_5c7e8a5d8b95be2c1c11af6d7cc2d22d_IMAG01_7.jpg\n",
      "Writing to img/쌉초의난/92/20241225183840_5c7e8a5d8b95be2c1c11af6d7cc2d22d_IMAG01_8.jpg\n",
      "Writing to img/쌉초의난/92/20241225183840_5c7e8a5d8b95be2c1c11af6d7cc2d22d_IMAG01_9.jpg\n",
      "Writing to img/쌉초의난/92/20241225183840_5c7e8a5d8b95be2c1c11af6d7cc2d22d_IMAG01_10.jpg\n",
      "Writing to img/쌉초의난/92/20241225183840_5c7e8a5d8b95be2c1c11af6d7cc2d22d_IMAG01_11.jpg\n",
      "Writing to img/쌉초의난/92/20241225183840_5c7e8a5d8b95be2c1c11af6d7cc2d22d_IMAG01_12.jpg\n",
      "Writing to img/쌉초의난/92/20241225183840_5c7e8a5d8b95be2c1c11af6d7cc2d22d_IMAG01_13.jpg\n",
      "Writing to img/쌉초의난/92/20241225183840_5c7e8a5d8b95be2c1c11af6d7cc2d22d_IMAG01_14.jpg\n",
      "Writing to img/쌉초의난/92/20241225183840_5c7e8a5d8b95be2c1c11af6d7cc2d22d_IMAG01_15.jpg\n",
      "Writing to img/쌉초의난/92/20241225183840_5c7e8a5d8b95be2c1c11af6d7cc2d22d_IMAG01_16.jpg\n",
      "Writing to img/쌉초의난/92/20241225183840_5c7e8a5d8b95be2c1c11af6d7cc2d22d_IMAG01_17.jpg\n",
      "Writing to img/쌉초의난/92/20241225183840_5c7e8a5d8b95be2c1c11af6d7cc2d22d_IMAG01_18.jpg\n",
      "Writing to img/쌉초의난/92/20241225183840_5c7e8a5d8b95be2c1c11af6d7cc2d22d_IMAG01_19.jpg\n"
     ]
    }
   ],
   "source": [
    "import requests\n",
    "from bs4 import BeautifulSoup\n",
    "import os\n",
    "\n",
    "\n",
    "def download_one_episode(title, no, url):\n",
    "    req_header = {\n",
    "        \"referer\": url,\n",
    "        \"User-Agent\": \"Mozilla/5.0\",  # UA 추가 (웹툰 서버 보호용)\n",
    "    }\n",
    "    res = requests.get(url,headers=req_header)\n",
    "\n",
    "    if res.ok:\n",
    "        html = res.text\n",
    "        soup = BeautifulSoup(html, 'html.parser')\n",
    "\n",
    "        #이미지 src 추출\n",
    "        img_tags = soup.select(\"img[src*='_IMAG01']\")\n",
    "        img_url_list = [img['src'] for img in img_tags if img.has_attr('src')]\n",
    "\n",
    "        print(f\"img_tags 수: {len(img_tags)}\") \n",
    "        imgdir_name = os.path.join('img', title, str(no))\n",
    "        if not os.path.isdir(imgdir_name):\n",
    "            os.makedirs(imgdir_name)  # 하위경로까지 생성\n",
    "\n",
    "        for img_url in img_url_list:\n",
    "            img_res = requests.get(img_url, headers=req_header)\n",
    "            if img_res.ok:\n",
    "                img = img_res.content\n",
    "                file_name = os.path.basename(img_url)\n",
    "                file_path = os.path.join(imgdir_name, file_name)\n",
    "\n",
    "                with open(file_path, \"wb\") as file:\n",
    "                    file.write(img)\n",
    "                print(f\"Writing to {file_path}\")\n",
    "            else:\n",
    "                print(f\"Error Code = {res.status_code}\")\n",
    "\n",
    "    else:\n",
    "        print(f\"Error Code = {res.status_code}\")\n",
    "\n",
    "\n",
    "download_one_episode(\n",
    "    '쌉초의난',\n",
    "    '92',\n",
    "    'https://comic.naver.com/webtoon/detail?titleId=823195&no=92&week=wed'\n",
    ")"
   ]
  },
  {
   "cell_type": "code",
   "execution_count": 51,
   "id": "26104774",
   "metadata": {},
   "outputs": [
    {
     "name": "stdout",
     "output_type": "stream",
     "text": [
      "img_tags 수: 19\n",
      "Writing to img/쌉초의난/93/20250106160353_3ceb95064d7d7689ba181f9c9d3332c6_IMAG01_1.jpg\n",
      "Writing to img/쌉초의난/93/20250106160353_3ceb95064d7d7689ba181f9c9d3332c6_IMAG01_2.jpg\n",
      "Writing to img/쌉초의난/93/20250106160353_3ceb95064d7d7689ba181f9c9d3332c6_IMAG01_3.jpg\n",
      "Writing to img/쌉초의난/93/20250106160353_3ceb95064d7d7689ba181f9c9d3332c6_IMAG01_4.jpg\n",
      "Writing to img/쌉초의난/93/20250106160353_3ceb95064d7d7689ba181f9c9d3332c6_IMAG01_5.jpg\n",
      "Writing to img/쌉초의난/93/20250106160353_3ceb95064d7d7689ba181f9c9d3332c6_IMAG01_6.jpg\n",
      "Writing to img/쌉초의난/93/20250106160353_3ceb95064d7d7689ba181f9c9d3332c6_IMAG01_7.jpg\n",
      "Writing to img/쌉초의난/93/20250106160353_3ceb95064d7d7689ba181f9c9d3332c6_IMAG01_8.jpg\n",
      "Writing to img/쌉초의난/93/20250106160353_3ceb95064d7d7689ba181f9c9d3332c6_IMAG01_9.jpg\n",
      "Writing to img/쌉초의난/93/20250106160353_3ceb95064d7d7689ba181f9c9d3332c6_IMAG01_10.jpg\n",
      "Writing to img/쌉초의난/93/20250106160353_3ceb95064d7d7689ba181f9c9d3332c6_IMAG01_11.jpg\n",
      "Writing to img/쌉초의난/93/20250106160353_3ceb95064d7d7689ba181f9c9d3332c6_IMAG01_12.jpg\n",
      "Writing to img/쌉초의난/93/20250106160353_3ceb95064d7d7689ba181f9c9d3332c6_IMAG01_13.jpg\n",
      "Writing to img/쌉초의난/93/20250106160353_3ceb95064d7d7689ba181f9c9d3332c6_IMAG01_14.jpg\n",
      "Writing to img/쌉초의난/93/20250106160353_3ceb95064d7d7689ba181f9c9d3332c6_IMAG01_15.jpg\n",
      "Writing to img/쌉초의난/93/20250106160353_3ceb95064d7d7689ba181f9c9d3332c6_IMAG01_16.jpg\n",
      "Writing to img/쌉초의난/93/20250106160353_3ceb95064d7d7689ba181f9c9d3332c6_IMAG01_17.jpg\n",
      "Writing to img/쌉초의난/93/20250106160353_3ceb95064d7d7689ba181f9c9d3332c6_IMAG01_18.jpg\n",
      "Writing to img/쌉초의난/93/20250106160353_3ceb95064d7d7689ba181f9c9d3332c6_IMAG01_19.jpg\n"
     ]
    }
   ],
   "source": [
    "download_one_episode(\n",
    "    '쌉초의난',\n",
    "    '93',\n",
    "    'https://comic.naver.com/webtoon/detail?titleId=823195&no=93&week=wed'\n",
    ")"
   ]
  }
 ],
 "metadata": {
  "kernelspec": {
   "display_name": "base",
   "language": "python",
   "name": "python3"
  },
  "language_info": {
   "codemirror_mode": {
    "name": "ipython",
    "version": 3
   },
   "file_extension": ".py",
   "mimetype": "text/x-python",
   "name": "python",
   "nbconvert_exporter": "python",
   "pygments_lexer": "ipython3",
   "version": "3.12.2"
  }
 },
 "nbformat": 4,
 "nbformat_minor": 5
}
